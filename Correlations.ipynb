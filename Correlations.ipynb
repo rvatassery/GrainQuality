{
 "cells": [
  {
   "cell_type": "markdown",
   "metadata": {},
   "source": [
    "# NOTE: this nb is not being used"
   ]
  },
  {
   "cell_type": "code",
   "execution_count": 1,
   "metadata": {},
   "outputs": [],
   "source": [
    "import matplotlib\n",
    "import matplotlib.pyplot as plt\n",
    "from matplotlib.pyplot import figure\n",
    "import pandas\n",
    "import numpy\n",
    "import os,sys,re,glob\n",
    "\n",
    "%matplotlib notebook\n",
    "#plt.rcParams['figure.figsize'] = [10, 10]"
   ]
  },
  {
   "cell_type": "code",
   "execution_count": 2,
   "metadata": {},
   "outputs": [],
   "source": [
    "joinData = {}\n",
    "for yearInt in range(2014,2017):\n",
    "    joinData[yearInt] = pandas.read_csv('FullJoin'+str(yearInt)+'.csv')"
   ]
  },
  {
   "cell_type": "markdown",
   "metadata": {},
   "source": [
    "## Correlations expected from common knowledge in crop science\n",
    "\n",
    "### Falling number vs T and rainfall"
   ]
  },
  {
   "cell_type": "code",
   "execution_count": 3,
   "metadata": {},
   "outputs": [
    {
     "data": {
      "text/plain": [
       "\"\\nprint(linFit)\\np = numpy.poly1d(linFit)\\nplt.plot(seriesX,p(seriesX),'r-')\\nplt.plot(seriesX,seriesY,'bo')\\nprint(seriesY[0],p(seriesX[0]))\\nprint(seriesY[10],p(seriesX[10]))\\n\""
      ]
     },
     "execution_count": 3,
     "metadata": {},
     "output_type": "execute_result"
    }
   ],
   "source": [
    "yearInt = 2014\n",
    "seriesX = joinData[yearInt].aggRain+joinData[yearInt].meanAvgT\n",
    "seriesY = joinData[yearInt].falling_no\n",
    "linFit = numpy.polynomial.polynomial.polyfit(seriesX,seriesY,1,full=True)\n",
    "'''\n",
    "print(linFit)\n",
    "p = numpy.poly1d(linFit)\n",
    "plt.plot(seriesX,p(seriesX),'r-')\n",
    "plt.plot(seriesX,seriesY,'bo')\n",
    "print(seriesY[0],p(seriesX[0]))\n",
    "print(seriesY[10],p(seriesX[10]))\n",
    "'''"
   ]
  },
  {
   "cell_type": "code",
   "execution_count": 4,
   "metadata": {},
   "outputs": [
    {
     "data": {
      "image/png": "[encoded data removed]",
      "text/plain": [
       "<Figure size 432x288 with 3 Axes>"
      ]
     },
     "metadata": {
      "needs_background": "light"
     },
     "output_type": "display_data"
    }
   ],
   "source": [
    "\n",
    "fig, ax = plt.subplots(1,3)\n",
    "\n",
    "_counter = 0\n",
    "for yearInt in range(2014,2017):\n",
    "\n",
    "    ax[_counter].plot(seriesX,seriesY,'ro')\n",
    "    ax[_counter].plot(seriesX,(seriesX*linFit[0][1])+linFit[0][0],'b-')\n",
    "    ax[_counter].set_title(str(yearInt))\n",
    "    \n",
    "    _counter += 1\n",
    "    "
   ]
  },
  {
   "cell_type": "markdown",
   "metadata": {},
   "source": [
    "#### Check correlations across all variables in lists below"
   ]
  },
  {
   "cell_type": "markdown",
   "metadata": {},
   "source": [
    "#### Assumptions:\n",
    "- Winter crop is only dependent on days 0-180 in calendar year\n",
    "- Winter crop does not depend on previous year (this is probably not a great assumption, but not terrible for 1st order)\n",
    "- "
   ]
  }
 ],
 "metadata": {
  "kernelspec": {
   "display_name": "Python 3",
   "language": "python",
   "name": "python3"
  },
  "language_info": {
   "codemirror_mode": {
    "name": "ipython",
    "version": 3
   },
   "file_extension": ".py",
   "mimetype": "text/x-python",
   "name": "python",
   "nbconvert_exporter": "python",
   "pygments_lexer": "ipython3",
   "version": "3.6.5"
  }
 },
 "nbformat": 4,
 "nbformat_minor": 2
}
